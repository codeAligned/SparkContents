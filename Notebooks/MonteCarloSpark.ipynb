{
 "cells": [
  {
   "cell_type": "markdown",
   "metadata": {},
   "source": [
    "## Monte Carlo Method using Apache Spark\n",
    "ref : https://cloud.google.com/solutions/monte-carlo-methods-with-hadoop-spark"
   ]
  },
  {
   "cell_type": "code",
   "execution_count": 1,
   "metadata": {},
   "outputs": [],
   "source": [
    "# Connect to Spark by creating a Spark session\n",
    "from pyspark.sql import SparkSession\n",
    "from pyspark import SparkContext, SparkConf\n",
    "    \n",
    "conf = SparkConf().setAppName(\"MonteCarloSpark\").setMaster(\"local\")\n",
    "sc = SparkContext(conf=conf)"
   ]
  },
  {
   "cell_type": "code",
   "execution_count": 2,
   "metadata": {},
   "outputs": [],
   "source": [
    "import random\n",
    "import time\n",
    "from operator import add"
   ]
  },
  {
   "cell_type": "code",
   "execution_count": 3,
   "metadata": {},
   "outputs": [],
   "source": [
    "def grow(seed):\n",
    "        random.seed(seed)\n",
    "        portfolio_value = INVESTMENT_INIT\n",
    "        for i in range(TERM):\n",
    "            growth = random.normalvariate(MKT_AVG_RETURN, MKT_STD_DEV)\n",
    "            portfolio_value += portfolio_value * growth + INVESTMENT_ANN\n",
    "        return portfolio_value"
   ]
  },
  {
   "cell_type": "code",
   "execution_count": 4,
   "metadata": {},
   "outputs": [],
   "source": [
    "seeds = sc.parallelize([time.time() + i for i in range(10000)])"
   ]
  },
  {
   "cell_type": "code",
   "execution_count": 5,
   "metadata": {},
   "outputs": [],
   "source": [
    "results = seeds.map(grow)"
   ]
  },
  {
   "cell_type": "code",
   "execution_count": 6,
   "metadata": {},
   "outputs": [],
   "source": [
    "INVESTMENT_INIT = 100000  # starting amount\n",
    "INVESTMENT_ANN = 10000  # yearly new investment\n",
    "TERM = 30  # number of years\n",
    "MKT_AVG_RETURN = 0.11 # percentage\n",
    "MKT_STD_DEV = 0.18  # standard deviation"
   ]
  },
  {
   "cell_type": "code",
   "execution_count": 7,
   "metadata": {},
   "outputs": [],
   "source": [
    "sum = results.reduce(add)"
   ]
  },
  {
   "cell_type": "code",
   "execution_count": 8,
   "metadata": {},
   "outputs": [
    {
     "name": "stdout",
     "output_type": "stream",
     "text": [
      "4236851.214690303\n"
     ]
    }
   ],
   "source": [
    "print(sum / 10000.)"
   ]
  },
  {
   "cell_type": "code",
   "execution_count": 9,
   "metadata": {},
   "outputs": [],
   "source": [
    "MKT_AVG_RETURN = 0.07"
   ]
  },
  {
   "cell_type": "code",
   "execution_count": 10,
   "metadata": {},
   "outputs": [
    {
     "name": "stdout",
     "output_type": "stream",
     "text": [
      "1706074.9982074979\n"
     ]
    }
   ],
   "source": [
    "print(sc.parallelize([time.time() + i for i in range(1000000)]) \\\n",
    "            .map(grow).reduce(add)/1000000.)"
   ]
  },
  {
   "cell_type": "code",
   "execution_count": null,
   "metadata": {},
   "outputs": [],
   "source": []
  }
 ],
 "metadata": {
  "kernelspec": {
   "display_name": "Python 3",
   "language": "python",
   "name": "python3"
  },
  "language_info": {
   "codemirror_mode": {
    "name": "ipython",
    "version": 3
   },
   "file_extension": ".py",
   "mimetype": "text/x-python",
   "name": "python",
   "nbconvert_exporter": "python",
   "pygments_lexer": "ipython3",
   "version": "3.6.4"
  }
 },
 "nbformat": 4,
 "nbformat_minor": 2
}
