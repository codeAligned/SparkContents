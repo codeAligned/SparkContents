{
 "cells": [
  {
   "cell_type": "code",
   "execution_count": 1,
   "metadata": {},
   "outputs": [],
   "source": [
    "# Connect to Spark by creating a Spark session\n",
    "from pyspark.sql import SparkSession\n",
    "import pandas as pd\n",
    "\n",
    "spark = SparkSession\\\n",
    "    .builder\\\n",
    "    .appName(\"Dataframe\")\\\n",
    "    .getOrCreate()\n",
    "\n",
    "sc = spark.sparkContext"
   ]
  },
  {
   "cell_type": "code",
   "execution_count": 2,
   "metadata": {},
   "outputs": [],
   "source": [
    "data1 = {'PassengerId': {0: 1, 1: 2, 2: 3, 3: 4, 4: 5},\n",
    "         'Name': {0: 'Owen', 1: 'Florence', 2: 'Laina', 3: 'Lily', 4: 'William'},\n",
    "         'Sex': {0: 'male', 1: 'female', 2: 'female', 3: 'female', 4: 'male'},\n",
    "         'Survived': {0: 0, 1: 1, 2: 1, 3: 1, 4: 0}}\n",
    "\n",
    "df1_pd = pd.DataFrame(data1, columns=data1.keys())"
   ]
  },
  {
   "cell_type": "code",
   "execution_count": 3,
   "metadata": {},
   "outputs": [
    {
     "name": "stdout",
     "output_type": "stream",
     "text": [
      "+-----------+--------+------+--------+\n",
      "|PassengerId|    Name|   Sex|Survived|\n",
      "+-----------+--------+------+--------+\n",
      "|          1|    Owen|  male|       0|\n",
      "|          2|Florence|female|       1|\n",
      "|          3|   Laina|female|       1|\n",
      "|          4|    Lily|female|       1|\n",
      "|          5| William|  male|       0|\n",
      "+-----------+--------+------+--------+\n",
      "\n"
     ]
    }
   ],
   "source": [
    "df1 = spark.createDataFrame(df1_pd)\n",
    "df1.show()"
   ]
  },
  {
   "cell_type": "code",
   "execution_count": 4,
   "metadata": {},
   "outputs": [],
   "source": [
    "df1.createOrReplaceTempView('result')"
   ]
  },
  {
   "cell_type": "code",
   "execution_count": 5,
   "metadata": {},
   "outputs": [],
   "source": [
    "#Template Column List\n",
    "columnsList = ['col1','col2','col3','col4','col5']\n",
    "\n",
    "#Column Mapping\n",
    "columnMapping = {\n",
    "    'col1' : 'PassengerId',\n",
    "    'col2' : 'Sex',\n",
    "    'col3' : 'Survived'\n",
    "}"
   ]
  },
  {
   "cell_type": "code",
   "execution_count": 6,
   "metadata": {},
   "outputs": [
    {
     "name": "stdout",
     "output_type": "stream",
     "text": [
      "select result.PassengerId as col1,result.Sex as col2,result.Survived as col3,null as col4,null as col5 from result\n"
     ]
    }
   ],
   "source": [
    "#Genearate sql based on Template and Column Mapping\n",
    "sql = 'select '\n",
    "result_df = 'result'\n",
    "for column in columnsList:\n",
    "    if column not in columnMapping:\n",
    "        sql += 'null as {},'.format(column)\n",
    "    else:\n",
    "        sql += '{}.{} as {},'.format(result_df,columnMapping[column],column)\n",
    "        \n",
    "sql = sql[:-1]\n",
    "sql += ' from {}'.format(result_df)\n",
    "print(sql)"
   ]
  },
  {
   "cell_type": "code",
   "execution_count": 7,
   "metadata": {},
   "outputs": [],
   "source": [
    "final_result = spark.sql(sql)"
   ]
  },
  {
   "cell_type": "code",
   "execution_count": 8,
   "metadata": {},
   "outputs": [
    {
     "name": "stdout",
     "output_type": "stream",
     "text": [
      "+----+------+----+----+----+\n",
      "|col1|  col2|col3|col4|col5|\n",
      "+----+------+----+----+----+\n",
      "|   1|  male|   0|null|null|\n",
      "|   2|female|   1|null|null|\n",
      "|   3|female|   1|null|null|\n",
      "|   4|female|   1|null|null|\n",
      "|   5|  male|   0|null|null|\n",
      "+----+------+----+----+----+\n",
      "\n"
     ]
    }
   ],
   "source": [
    "#Missing columns in mapping are populated as null\n",
    "final_result.show()"
   ]
  },
  {
   "cell_type": "code",
   "execution_count": null,
   "metadata": {},
   "outputs": [],
   "source": []
  }
 ],
 "metadata": {
  "kernelspec": {
   "display_name": "Python 3",
   "language": "python",
   "name": "python3"
  },
  "language_info": {
   "codemirror_mode": {
    "name": "ipython",
    "version": 3
   },
   "file_extension": ".py",
   "mimetype": "text/x-python",
   "name": "python",
   "nbconvert_exporter": "python",
   "pygments_lexer": "ipython3",
   "version": "3.6.4"
  }
 },
 "nbformat": 4,
 "nbformat_minor": 2
}
