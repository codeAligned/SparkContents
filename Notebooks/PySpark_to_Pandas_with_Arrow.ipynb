{
 "cells": [
  {
   "cell_type": "markdown",
   "metadata": {},
   "source": [
    "## Create a Sample DataFrame in Spark\n",
    "\n",
    "Ref : https://bryancutler.github.io/toPandas/ (Spark toPandas() with Arrow, a Detailed Look)\n",
    "\n",
    "To generate some sample data, we will make a DataFrame with 2 columns: 1 long and 1 double and 4,194,304 records"
   ]
  },
  {
   "cell_type": "code",
   "execution_count": 2,
   "metadata": {},
   "outputs": [],
   "source": [
    "from pyspark.sql import SparkSession\n",
    "\n",
    "spark = SparkSession\\\n",
    "    .builder\\\n",
    "    .appName(\"PySpark_to_Pandas_with_Arrow\")\\\n",
    "    .getOrCreate()"
   ]
  },
  {
   "cell_type": "code",
   "execution_count": 3,
   "metadata": {},
   "outputs": [
    {
     "name": "stdout",
     "output_type": "stream",
     "text": [
      "root\n",
      " |-- id: long (nullable = false)\n",
      " |-- x: double (nullable = false)\n",
      "\n"
     ]
    }
   ],
   "source": [
    "from pyspark.sql.functions import rand\n",
    "df = spark.range(1 << 22).toDF(\"id\").withColumn(\"x\", rand())\n",
    "df.printSchema()"
   ]
  },
  {
   "cell_type": "markdown",
   "metadata": {},
   "source": [
    "## Conversion to a Pandas DataFrame without Arrow\n",
    "\n",
    "This uses the default Spark serializers to transfer the data and load it into Pandas 1 record at a time. It's a very inefficient process due to the high overhead of serialization and having to process individual scalar values."
   ]
  },
  {
   "cell_type": "code",
   "execution_count": 4,
   "metadata": {},
   "outputs": [
    {
     "name": "stdout",
     "output_type": "stream",
     "text": [
      "CPU times: user 15.5 s, sys: 977 ms, total: 16.4 s\n",
      "Wall time: 21.8 s\n"
     ]
    }
   ],
   "source": [
    "%time pdf = df.toPandas()"
   ]
  },
  {
   "cell_type": "markdown",
   "metadata": {},
   "source": [
    "## Enable Arrow with a Spark property\n",
    "By default, Arrow is not enabled in Spark.  You can enable by setting the following SQLConf or adding \"spark.sql.execution.arrow.enabled=true\" to your Spark configuration at `conf/spark-defaults.conf`"
   ]
  },
  {
   "cell_type": "code",
   "execution_count": 5,
   "metadata": {},
   "outputs": [],
   "source": [
    "spark.conf.set(\"spark.sql.execution.arrow.enabled\", \"true\")"
   ]
  },
  {
   "cell_type": "markdown",
   "metadata": {},
   "source": [
    "## Run the conversion again, this time with Arrow\n",
    "With Arrow enabled, the call `toPandas()` is optimized to use Arrow to transfer the data and avoid serialization costs. Arrow can then utilize zero-copy methods to produce a Pandas DataFrame on chunks of data at a time, making the entire process very efficient."
   ]
  },
  {
   "cell_type": "code",
   "execution_count": 8,
   "metadata": {},
   "outputs": [
    {
     "name": "stdout",
     "output_type": "stream",
     "text": [
      "CPU times: user 86 ms, sys: 83.8 ms, total: 170 ms\n",
      "Wall time: 1.31 s\n"
     ]
    }
   ],
   "source": [
    "%time pdf = df.toPandas()"
   ]
  }
 ],
 "metadata": {
  "kernelspec": {
   "display_name": "Python 3",
   "language": "python",
   "name": "python3"
  },
  "language_info": {
   "codemirror_mode": {
    "name": "ipython",
    "version": 3
   },
   "file_extension": ".py",
   "mimetype": "text/x-python",
   "name": "python",
   "nbconvert_exporter": "python",
   "pygments_lexer": "ipython3",
   "version": "3.6.4"
  }
 },
 "nbformat": 4,
 "nbformat_minor": 2
}
